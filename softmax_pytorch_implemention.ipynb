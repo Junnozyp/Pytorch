{
 "cells": [
  {
   "cell_type": "code",
   "execution_count": 1,
   "metadata": {},
   "outputs": [],
   "source": [
    "import torch \n",
    "import torch.nn as nn\n",
    "from torch.nn import init\n",
    "import torchvision\n",
    "import torchvision.transforms as transforms\n",
    "import numpy as np"
   ]
  },
  {
   "cell_type": "markdown",
   "metadata": {},
   "source": [
    "C:\\Users\\11515\\Desktop\\PyTorch\\data\\FashionMNIST\\raw\n",
    "    C:/Users/11515/Desktop/Pytorch/data/"
   ]
  },
  {
   "cell_type": "code",
   "execution_count": 2,
   "metadata": {},
   "outputs": [
    {
     "name": "stdout",
     "output_type": "stream",
     "text": [
      "C:/Users/11515/Desktop/Pytorch/data/FashionMNIST\\processed\\training.pt C:/Users/11515/Desktop/Pytorch/data/FashionMNIST\\processed\\test.pt\n",
      "C://Users/11515/Desktop/Pytorch/data/FashionMNIST\\processed\\training.pt C://Users/11515/Desktop/Pytorch/data/FashionMNIST\\processed\\test.pt\n"
     ]
    }
   ],
   "source": [
    "mnist_train = torchvision.datasets.FashionMNIST(root='C:/Users/11515/Desktop/Pytorch/data/', train=True, download=False, transform=transforms.ToTensor())\n",
    "mnist_test = torchvision.datasets.FashionMNIST(root='C://Users/11515/Desktop/Pytorch/data/', train=False, download=False, transform=transforms.ToTensor())"
   ]
  },
  {
   "cell_type": "code",
   "execution_count": 3,
   "metadata": {},
   "outputs": [
    {
     "name": "stdout",
     "output_type": "stream",
     "text": [
      "60000 10000\n"
     ]
    }
   ],
   "source": [
    "print(len(mnist_train),len(mnist_test))"
   ]
  },
  {
   "cell_type": "code",
   "execution_count": 3,
   "metadata": {},
   "outputs": [],
   "source": [
    "def get_fashion_mnist_labels(labels):\n",
    "    text_labels = ['t-shirt', 'trouser', 'pullover', 'dress', 'coat',\n",
    "                   'sandal', 'shirt', 'sneaker', 'bag', 'ankle boot']\n",
    "    return [text_labels[int(i)] for i in labels]"
   ]
  },
  {
   "cell_type": "markdown",
   "metadata": {},
   "source": [
    "### data loader"
   ]
  },
  {
   "cell_type": "code",
   "execution_count": 4,
   "metadata": {},
   "outputs": [],
   "source": [
    "import sys"
   ]
  },
  {
   "cell_type": "code",
   "execution_count": 5,
   "metadata": {},
   "outputs": [],
   "source": [
    "batch_size=256\n",
    "if sys.platform.startswith('win'):\n",
    "    num_workers=0\n",
    "else:\n",
    "    num_workers=4\n",
    "train_iter=torch.utils.data.DataLoader(mnist_train,batch_size=batch_size,shuffle=True,\n",
    "                                      num_workers=num_workers)\n",
    "test_iter=torch.utils.data.DataLoader(mnist_test,batch_size=batch_size,shuffle=True,\n",
    "                                      num_workers=num_workers)"
   ]
  },
  {
   "cell_type": "code",
   "execution_count": 8,
   "metadata": {},
   "outputs": [
    {
     "name": "stdout",
     "output_type": "stream",
     "text": [
      "6.09 sec\n"
     ]
    }
   ],
   "source": [
    "import time\n",
    "start=time.time()\n",
    "for x,y in train_iter:\n",
    "    continue\n",
    "print('%.2f sec'%(time.time()-start))"
   ]
  },
  {
   "cell_type": "code",
   "execution_count": 7,
   "metadata": {},
   "outputs": [],
   "source": [
    "import random"
   ]
  },
  {
   "cell_type": "code",
   "execution_count": 8,
   "metadata": {},
   "outputs": [
    {
     "data": {
      "text/plain": [
       "23"
      ]
     },
     "execution_count": 8,
     "metadata": {},
     "output_type": "execute_result"
    }
   ],
   "source": [
    "random.randint(0,len(train_iter))"
   ]
  },
  {
   "cell_type": "code",
   "execution_count": 10,
   "metadata": {},
   "outputs": [
    {
     "data": {
      "text/plain": [
       "60000"
      ]
     },
     "execution_count": 10,
     "metadata": {},
     "output_type": "execute_result"
    }
   ],
   "source": [
    "len(mnist_train)"
   ]
  },
  {
   "cell_type": "code",
   "execution_count": 7,
   "metadata": {},
   "outputs": [],
   "source": [
    "from IPython import display\n",
    "from matplotlib import pyplot as plt\n",
    "\n",
    "def use_svg_display():\n",
    "    display.set_matplotlib_formats('svg')\n",
    "def show_fashion_mnist(images,labels):\n",
    "    _,figs=plt.subplots(1,len(images),figsize=(12,12))\n",
    "    for f,img,lbl in zip(figs,images,labels):\n",
    "        f.imshow(img.view((28,28)).numpy(),cmap='gray')\n",
    "        f.set_title(lbl)\n",
    "        f.axes.get_xaxis().set_visible(False)\n",
    "        f.axes.get_yaxis().set_visible(False)"
   ]
  },
  {
   "cell_type": "code",
   "execution_count": 11,
   "metadata": {},
   "outputs": [
    {
     "data": {
      "image/png": "[encoded data removed]",
      "text/plain": [
       "<Figure size 864x864 with 10 Axes>"
      ]
     },
     "metadata": {
      "needs_background": "light"
     },
     "output_type": "display_data"
    }
   ],
   "source": [
    "X=[mnist_train[i][0].mul(255) for i in range(10)]\n",
    "y=[mnist_train[i][1] for i in range(10)]\n",
    "show_fashion_mnist(X,get_fashion_mnist_labels(y))"
   ]
  },
  {
   "cell_type": "markdown",
   "metadata": {},
   "source": [
    "### softmax implement from scratch"
   ]
  },
  {
   "cell_type": "markdown",
   "metadata": {},
   "source": [
    "pytorch 中对维度的操作，可以只对其中同一列（dim=0）或同一行（dim=1）的元素求和，并在结果中保留行和列这两个维度（keepdim=True）"
   ]
  },
  {
   "cell_type": "code",
   "execution_count": 12,
   "metadata": {},
   "outputs": [
    {
     "name": "stdout",
     "output_type": "stream",
     "text": [
      "tensor([[5, 7, 9]])\n",
      "tensor([[ 6],\n",
      "        [15]])\n"
     ]
    }
   ],
   "source": [
    "X=torch.tensor([[1,2,3],[4,5,6]])\n",
    "print(X.sum(dim=0,keepdim=True))\n",
    "print(X.sum(dim=1,keepdim=True))"
   ]
  },
  {
   "cell_type": "code",
   "execution_count": 2,
   "metadata": {},
   "outputs": [],
   "source": [
    "def softmax(X):\n",
    "    X_exp=X.exp()\n",
    "    partition=X_exp.sum(dim=1,keepdim=True)\n",
    "    return X_exp/partition\n"
   ]
  },
  {
   "cell_type": "markdown",
   "metadata": {},
   "source": [
    "softmax([10.0, 10.1, 10.2])\n",
    "\n",
    "\n",
    "softmax([-100, -101, -102])\n",
    "\n",
    "\n",
    "softmax([-2 -1, 0])\n",
    "\n",
    "\n",
    "softmax([1000, 1010, 1020])\n",
    "softmax 是将数据的偏离转化为概率值，只要步长一致，计算结果就一致，与倍数无关"
   ]
  },
  {
   "cell_type": "code",
   "execution_count": 14,
   "metadata": {},
   "outputs": [
    {
     "name": "stdout",
     "output_type": "stream",
     "text": [
      "tensor([[nan, nan, nan]])\n",
      "tensor([[0.3006, 0.3322, 0.3672]])\n",
      "tensor([[0.0159, 0.1173, 0.8668]])\n",
      "tensor([[0.0159, 0.1173, 0.8668]])\n",
      "tensor([[nan, nan, nan]])\n"
     ]
    }
   ],
   "source": [
    "print(softmax(torch.FloatTensor([[100, 101, 102]])))\n",
    "print(softmax(torch.FloatTensor([[10.0, 10.1, 10.2]])))\n",
    "print(softmax(torch.FloatTensor([[2,4,6]])))\n",
    "print(softmax(torch.FloatTensor([[10,12,14]])))\n",
    "print(softmax(torch.FloatTensor([[1000, 1010, 1020]])))"
   ]
  },
  {
   "cell_type": "code",
   "execution_count": null,
   "metadata": {},
   "outputs": [],
   "source": [
    "2="
   ]
  },
  {
   "cell_type": "code",
   "execution_count": 14,
   "metadata": {},
   "outputs": [],
   "source": [
    "num_inputs=28**2\n",
    "num_outputs=10\n",
    "W=torch.tensor(np.random.normal(0,0.01,size=(num_inputs,num_outputs)),dtype=torch.float)\n",
    "b=torch.zeros(num_outputs,dtype=torch.float)"
   ]
  },
  {
   "cell_type": "code",
   "execution_count": 15,
   "metadata": {},
   "outputs": [],
   "source": [
    "def net(X):\n",
    "    return softmax(torch.mm(X.view((-1,num_inputs)),W)+b)"
   ]
  },
  {
   "cell_type": "code",
   "execution_count": 16,
   "metadata": {},
   "outputs": [],
   "source": [
    "def cross_entropy(y_hat,y):\n",
    "    return -torch.log(y_hat.gather(1,y.view(-1,1)))"
   ]
  },
  {
   "cell_type": "code",
   "execution_count": 17,
   "metadata": {},
   "outputs": [],
   "source": [
    "def accuracy(y_hat,y):\n",
    "    return (y_hat.argmax(dim=1)==y).float().mean().item()"
   ]
  },
  {
   "cell_type": "code",
   "execution_count": 47,
   "metadata": {},
   "outputs": [],
   "source": [
    "def evaluate_acc(data_iter,net):\n",
    "    acc_sum,n=0.0,0\n",
    "    for X,y in data_iter:\n",
    "        acc_sum+=(net(X).argmax(dim=1)==y).float().sum().item()\n",
    "        n+=y.shape[0]\n",
    "    return acc_sum/n\n"
   ]
  },
  {
   "cell_type": "code",
   "execution_count": 44,
   "metadata": {},
   "outputs": [],
   "source": [
    "def train_softmax_classification_net(net,train_iter,test_iter,loss,num_epochs,batch_size,\n",
    "          lr=0.001,params=None,optimizer=None):\n",
    "    for epoch in range(num_epochs):\n",
    "        train_loss_sum,train_acc_sum,n=0.0,0.0,0\n",
    "        for X,y in train_iter:\n",
    "            y_hat=net(X)\n",
    "            l=loss(y_hat,y).sum()\n",
    "            \n",
    "            # clear gradient\n",
    "            if optimizer is not None:\n",
    "                optimizer.zero_grad()\n",
    "            elif params is not None and params[0].grad is not None:\n",
    "                for param in params:\n",
    "                    param.grad.data.zero_()\n",
    "            \n",
    "            # bp\n",
    "            l.backward()\n",
    "            if optimizer is None:\n",
    "                for param in params:\n",
    "                    param.data-=lr*param.grad/batch_size\n",
    "            else:\n",
    "                optimizer.step()\n",
    "            \n",
    "            train_loss_sum+=l.item()\n",
    "            train_acc_sum+= (y_hat.argmax(dim=1) == y).sum().item()\n",
    "            n+=y.shape[0]\n",
    "        test_acc=evaluate_acc(test_iter,net)\n",
    "        \n",
    "        print('epoch %d, loss %.4f, train acc %.3f, test acc %.3f'\n",
    "              % (epoch + 1, train_loss_sum / n, train_acc_sum / n, test_acc))\n"
   ]
  },
  {
   "cell_type": "markdown",
   "metadata": {},
   "source": [
    "### using pytorch module to implement softmax classificatio model"
   ]
  },
  {
   "cell_type": "code",
   "execution_count": 26,
   "metadata": {},
   "outputs": [],
   "source": [
    "num_inputs=28**2\n",
    "num_outputs=10\n",
    "\n",
    "class Linear_Softmax_Net(nn.Module):\n",
    "    def __init__(self,num_inputs,num_outputs):\n",
    "        super().__init__()\n",
    "        self.linear=nn.Linear(num_inputs,num_outputs)\n",
    "    def forward(self,X):\n",
    "        return self.linear(X.view(x.shape[0],-1))# x shape: (batch, 1, 28, 28)\n",
    "\n",
    "net=Linear_Softmax_Net(num_inputs,num_outputs)"
   ]
  },
  {
   "cell_type": "code",
   "execution_count": 27,
   "metadata": {},
   "outputs": [
    {
     "name": "stdout",
     "output_type": "stream",
     "text": [
      "Linear_Softmax_Net(\n",
      "  (linear): Linear(in_features=784, out_features=10, bias=True)\n",
      ")\n"
     ]
    }
   ],
   "source": [
    "print(net)"
   ]
  },
  {
   "cell_type": "code",
   "execution_count": 37,
   "metadata": {},
   "outputs": [],
   "source": [
    "#Flatten Layer\n",
    "class FlattenLayer(nn.Module):\n",
    "    def __init__(self):\n",
    "        super().__init__()\n",
    "    def forward(self,X):\n",
    "        return X.view(X.shape[0],-1)"
   ]
  },
  {
   "cell_type": "markdown",
   "metadata": {},
   "source": [
    "### define net easier"
   ]
  },
  {
   "cell_type": "code",
   "execution_count": 38,
   "metadata": {},
   "outputs": [],
   "source": [
    "from collections import OrderedDict\n",
    "\n",
    "net=nn.Sequential(\n",
    "    OrderedDict([\n",
    "        ('flatten',FlattenLayer()),\n",
    "        ('linear',nn.Linear(num_inputs,num_outputs))\n",
    "    ])\n",
    ")"
   ]
  },
  {
   "cell_type": "code",
   "execution_count": 30,
   "metadata": {},
   "outputs": [
    {
     "name": "stdout",
     "output_type": "stream",
     "text": [
      "Sequential(\n",
      "  (flatten): FlattenLayer()\n",
      "  (linear): Linear(in_features=784, out_features=10, bias=True)\n",
      ")\n"
     ]
    }
   ],
   "source": [
    "print(net)"
   ]
  },
  {
   "cell_type": "code",
   "execution_count": 39,
   "metadata": {},
   "outputs": [
    {
     "data": {
      "text/plain": [
       "Parameter containing:\n",
       "tensor([0., 0., 0., 0., 0., 0., 0., 0., 0., 0.], requires_grad=True)"
      ]
     },
     "execution_count": 39,
     "metadata": {},
     "output_type": "execute_result"
    }
   ],
   "source": [
    "init.normal_(net.linear.weight,mean=0,std=0.01)\n",
    "init.constant_(net.linear.bias,val=0)"
   ]
  },
  {
   "cell_type": "code",
   "execution_count": 33,
   "metadata": {},
   "outputs": [
    {
     "data": {
      "text/plain": [
       "torch.nn.modules.container.Sequential"
      ]
     },
     "execution_count": 33,
     "metadata": {},
     "output_type": "execute_result"
    }
   ],
   "source": [
    "type(net)"
   ]
  },
  {
   "cell_type": "code",
   "execution_count": 49,
   "metadata": {},
   "outputs": [],
   "source": [
    "loss=nn.CrossEntropyLoss()\n",
    "optimizer=torch.optim.SGD(net.parameters(),lr=0.1,momentum=0.9)\n"
   ]
  },
  {
   "cell_type": "code",
   "execution_count": 50,
   "metadata": {},
   "outputs": [
    {
     "name": "stdout",
     "output_type": "stream",
     "text": [
      "epoch 1, loss 0.0019, train acc 0.837, test acc 0.824\n",
      "epoch 2, loss 0.0018, train acc 0.842, test acc 0.825\n",
      "epoch 3, loss 0.0017, train acc 0.849, test acc 0.841\n",
      "epoch 4, loss 0.0017, train acc 0.850, test acc 0.836\n",
      "epoch 5, loss 0.0017, train acc 0.851, test acc 0.828\n"
     ]
    }
   ],
   "source": [
    "num_epochs = 5\n",
    "train_softmax_classification_net(net, train_iter, test_iter, loss, num_epochs, \n",
    "              batch_size, None, None, optimizer)"
   ]
  },
  {
   "cell_type": "markdown",
   "metadata": {},
   "source": [
    "### save model"
   ]
  },
  {
   "cell_type": "code",
   "execution_count": 54,
   "metadata": {},
   "outputs": [],
   "source": [
    "torch.save(net.state_dict(), './model_weight.pth')"
   ]
  },
  {
   "cell_type": "markdown",
   "metadata": {},
   "source": [
    "### load model parameters"
   ]
  },
  {
   "cell_type": "code",
   "execution_count": 55,
   "metadata": {},
   "outputs": [
    {
     "data": {
      "text/plain": [
       "<All keys matched successfully>"
      ]
     },
     "execution_count": 55,
     "metadata": {},
     "output_type": "execute_result"
    }
   ],
   "source": [
    "net.load_state_dict(torch.load('./Fashion_Mnist/Fashion_Mnist_Softmax_Classification.pkl'))"
   ]
  },
  {
   "cell_type": "markdown",
   "metadata": {},
   "source": [
    "### Testing my net class"
   ]
  },
  {
   "cell_type": "code",
   "execution_count": 26,
   "metadata": {},
   "outputs": [],
   "source": [
    "import os\n",
    "import random\n",
    "import sys\n",
    "from collections import OrderedDict\n",
    "\n",
    "import matplotlib.pyplot as plt\n",
    "import numpy as np\n",
    "import torch\n",
    "import torch.functional as tf\n",
    "import torch.nn as nn\n",
    "import torchvision\n",
    "import torchvision.transforms as transforms\n",
    "from torch.nn import init\n",
    "\n",
    "# To build a simple net with a flatten and a linear layer to classify\n",
    "# Fashion_Mnist dataset\n",
    "# please ensure that you have already downloaded the original dataset\n",
    "\n",
    "def get_fashion_mnist_labels(labels):\n",
    "    \"\"\"return true labels according to y_label\"\"\"\n",
    "    text_labels = ['t-shirt', 'trouser', 'pullover', 'dress', 'coat',\n",
    "                   'sandal', 'shirt', 'sneaker', 'bag', 'ankle boot']\n",
    "    return [text_labels[int(i)] for i in labels]\n",
    "\n",
    "def dataload(path,batch_size,num_workers=None):\n",
    "    \"\"\"\n",
    "    path:upper folder path which contains datasets files\n",
    "    batch_size:number of one mini_batch\n",
    "    num_worker: CPU workers when loading image\n",
    "    return: two iterable object: train_set and test_set\n",
    "    \"\"\"\n",
    "    # build torch.dataset object\n",
    "    mnist_train = torchvision.datasets.FashionMNIST(root=path, train=True, \n",
    "                                            download=True, transform=transforms.ToTensor())\n",
    "    mnist_test = torchvision.datasets.FashionMNIST(root=path, train=False, \n",
    "                                            download=True, transform=transforms.ToTensor())\n",
    "    # set num_workeres\n",
    "    if num_workers is None:\n",
    "        if sys.platform.startswith('win'):\n",
    "            num_workers=0\n",
    "        else:\n",
    "            num_workers=4\n",
    "    # build iterable Dataloader object\n",
    "    train_iter=torch.utils.data.DataLoader(mnist_train,batch_size=batch_size,shuffle=True,\n",
    "                                    num_workers=num_workers)\n",
    "    test_iter=torch.utils.data.DataLoader(mnist_test,batch_size=batch_size,shuffle=True,\n",
    "                                    num_workers=num_workers)\n",
    "    return train_iter,test_iter,mnist_train,mnist_test\n",
    "\n",
    "\n",
    "#Flatten Layer\n",
    "class FlattenLayer(nn.Module):\n",
    "    def __init__(self):\n",
    "        super().__init__()\n",
    "    def forward(self,X):\n",
    "        return X.view(X.shape[0],-1)\n",
    "\n",
    "\n",
    "class Linear_Softmax_Net:\n",
    "    def __init__(self,path,num_workers,num_inputs,num_outputs,learning_rate,batch_size):\n",
    "        # using sequential to build model easier\n",
    "        self.net=nn.Sequential(\n",
    "            OrderedDict([\n",
    "                ('flatten',FlattenLayer()),\n",
    "                # insert any layer you need\n",
    "                ('linear',nn.Linear(num_inputs,num_outputs))\n",
    "            ])\n",
    "        )\n",
    "        # initialize model default parameters\n",
    "        init.normal_(self.net.linear.weight,mean=0,std=0.01)\n",
    "        init.constant_(self.net.linear.bias,val=0)\n",
    "        # load data\n",
    "        assert os.path.exists(path)\n",
    "        self.train_iter,self.test_iter,self.mnist_train,_=dataload(path,batch_size,num_workers)\n",
    "        self.loss=nn.CrossEntropyLoss()\n",
    "        self.optimizer=torch.optim.SGD(self.net.parameters(),lr=learning_rate,momentum=0.9)\n",
    "    \n",
    "    def train(self,epochs,ver_gap,verbose=True,test=True):\n",
    "        for epoch in range(1,epochs+1):\n",
    "            train_loss_sum,train_acc_sum,n=0.0,0.0,0\n",
    "            test_acc=0.0\n",
    "            for X,y in self.train_iter:\n",
    "                y_hat=self.net(X)\n",
    "                l=self.loss(y_hat,y).sum()\n",
    "                \n",
    "                # clear gradient\n",
    "                self.optimizer.zero_grad()\n",
    "                \n",
    "                # bp\n",
    "                l.backward()\n",
    "                self.optimizer.step()\n",
    "                \n",
    "                train_loss_sum+=l.item()\n",
    "                train_acc_sum+= (y_hat.argmax(dim=1) == y).sum().item()\n",
    "                n+=y.shape[0]\n",
    "            if test:\n",
    "                test_acc=self.evaluate_acc(self.test_iter,self.net)\n",
    "            if epoch%ver_gap==0 and verbose:\n",
    "                print('epoch %d, loss %.4f, train acc %.3f, test acc %.3f'\n",
    "                    % (epoch, train_loss_sum / n, train_acc_sum / n, test_acc))\n",
    "    \n",
    "    def evaluate_acc(self,data_iter,net):\n",
    "        acc_sum,n=0.0,0\n",
    "        for X,y in data_iter:\n",
    "            acc_sum+=(self.net(X).argmax(dim=1)==y).float().sum().item()\n",
    "            n+=y.shape[0]\n",
    "        return acc_sum/n\n",
    "\n",
    "    def save_model(self,model_path):\n",
    "        assert os.path.exists(model_path)\n",
    "        torch.save(self.net.state_dict(),model_path)\n",
    "        print('Saving model successfully')\n",
    "    \n",
    "    def load_model_weight(self,model_path):\n",
    "        assert os.path.exists(model_path)\n",
    "        self.net.load_state_dict(torch.load(model_path))\n",
    "        print('Loading model successfully')\n",
    "    \n",
    "    # def cross_entropy(self,y_hat,y):\n",
    "    #     return -torch.log(y_hat.gather(1,y.view(-1,1)))\n",
    "\n",
    "    def softmax(self,X):\n",
    "        X_exp=X.exp()\n",
    "        partition=X_exp.sum(dim=1,keepdim=True)\n",
    "        return X_exp/partition\n",
    "\n",
    "    def show_fashion_mnist(self,num):\n",
    "        # 缺少随机选取的函数\n",
    "        images,lbls=[],[]\n",
    "        for img in self.mnist_train:\n",
    "            if num>0:\n",
    "                images.append(img[0])\n",
    "                lbls.append(img[1])\n",
    "                num-=1\n",
    "            else: break\n",
    "        #print(lbls)\n",
    "        labels=get_fashion_mnist_labels(lbls)\n",
    "        \n",
    "        _,figs=plt.subplots(1,len(images),figsize=(12,12))\n",
    "        for f,img,lbl in zip(figs,images,labels):\n",
    "            f.imshow(img.view((28,28)).numpy(),cmap='gray')\n",
    "            f.set_title(lbl)\n",
    "            f.axes.get_xaxis().set_visible(False)\n",
    "            f.axes.get_yaxis().set_visible(False)\n"
   ]
  },
  {
   "cell_type": "code",
   "execution_count": 27,
   "metadata": {},
   "outputs": [
    {
     "name": "stdout",
     "output_type": "stream",
     "text": [
      "Processing...\n",
      "Done!\n",
      "C:/Users/11515/Desktop/Pytorch/data/FashionMNIST\\processed\\training.pt C:/Users/11515/Desktop/Pytorch/data/FashionMNIST\\processed\\test.pt\n",
      "Processing...\n",
      "Done!\n",
      "C:/Users/11515/Desktop/Pytorch/data/FashionMNIST\\processed\\training.pt C:/Users/11515/Desktop/Pytorch/data/FashionMNIST\\processed\\test.pt\n"
     ]
    }
   ],
   "source": [
    "net=Linear_Softmax_Net(path='C:/Users/11515/Desktop/Pytorch/data/',num_workers=0,\n",
    "                      num_inputs=28**2,num_outputs=10,learning_rate=0.01,batch_size=256)"
   ]
  },
  {
   "cell_type": "code",
   "execution_count": 28,
   "metadata": {},
   "outputs": [
    {
     "name": "stdout",
     "output_type": "stream",
     "text": [
      "[9, 0, 0, 3, 0, 2, 7, 2, 5, 5]\n"
     ]
    },
    {
     "data": {
      "image/png": "[encoded data removed]",
      "text/plain": [
       "<Figure size 864x864 with 10 Axes>"
      ]
     },
     "metadata": {
      "needs_background": "light"
     },
     "output_type": "display_data"
    }
   ],
   "source": [
    "net.show_fashion_mnist(10)"
   ]
  },
  {
   "cell_type": "code",
   "execution_count": 29,
   "metadata": {},
   "outputs": [
    {
     "name": "stdout",
     "output_type": "stream",
     "text": [
      "epoch 2, loss 0.0031, train acc 0.742, test acc 0.792\n",
      "epoch 3, loss 0.0022, train acc 0.816, test acc 0.813\n",
      "epoch 4, loss 0.0020, train acc 0.827, test acc 0.818\n",
      "epoch 5, loss 0.0019, train acc 0.834, test acc 0.822\n",
      "epoch 6, loss 0.0019, train acc 0.838, test acc 0.825\n"
     ]
    }
   ],
   "source": [
    "net.train(5,1)"
   ]
  },
  {
   "cell_type": "code",
   "execution_count": null,
   "metadata": {},
   "outputs": [],
   "source": []
  }
 ],
 "metadata": {
  "kernelspec": {
   "display_name": "Python 3",
   "language": "python",
   "name": "python3"
  },
  "language_info": {
   "codemirror_mode": {
    "name": "ipython",
    "version": 3
   },
   "file_extension": ".py",
   "mimetype": "text/x-python",
   "name": "python",
   "nbconvert_exporter": "python",
   "pygments_lexer": "ipython3",
   "version": "3.7.1"
  }
 },
 "nbformat": 4,
 "nbformat_minor": 2
}
